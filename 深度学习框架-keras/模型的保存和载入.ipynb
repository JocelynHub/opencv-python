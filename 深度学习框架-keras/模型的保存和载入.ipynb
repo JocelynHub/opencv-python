{
 "cells": [
  {
   "cell_type": "code",
   "execution_count": 1,
   "metadata": {},
   "outputs": [
    {
     "name": "stdout",
     "output_type": "stream",
     "text": [
      "Epoch 1/10\n",
      "1875/1875 [==============================] - 4s 2ms/step - loss: 0.4535 - accuracy: 0.8630\n",
      "Epoch 2/10\n",
      "1875/1875 [==============================] - 4s 2ms/step - loss: 0.2894 - accuracy: 0.9141\n",
      "Epoch 3/10\n",
      "1875/1875 [==============================] - 4s 2ms/step - loss: 0.2438 - accuracy: 0.9280\n",
      "Epoch 4/10\n",
      "1875/1875 [==============================] - 4s 2ms/step - loss: 0.2210 - accuracy: 0.9351\n",
      "Epoch 5/10\n",
      "1875/1875 [==============================] - 4s 2ms/step - loss: 0.2033 - accuracy: 0.9394: 0s\n",
      "Epoch 6/10\n",
      "1875/1875 [==============================] - 4s 2ms/step - loss: 0.1898 - accuracy: 0.9433\n",
      "Epoch 7/10\n",
      "1875/1875 [==============================] - 4s 2ms/step - loss: 0.1819 - accuracy: 0.9459\n",
      "Epoch 8/10\n",
      "1875/1875 [==============================] - 4s 2ms/step - loss: 0.1699 - accuracy: 0.9495\n",
      "Epoch 9/10\n",
      "1875/1875 [==============================] - 4s 2ms/step - loss: 0.1599 - accuracy: 0.9527\n",
      "Epoch 10/10\n",
      "1875/1875 [==============================] - 4s 2ms/step - loss: 0.1579 - accuracy: 0.9533\n",
      "313/313 [==============================] - 0s 1ms/step - loss: 0.1096 - accuracy: 0.9682\n",
      "\n",
      "test loss 0.10960788279771805\n",
      "test accuracy  0.9682000279426575\n",
      "1875/1875 [==============================] - 3s 2ms/step - loss: 0.0816 - accuracy: 0.9753\n",
      "\n",
      "test loss 0.08161962032318115\n",
      "train accuracy  0.9752500057220459\n"
     ]
    }
   ],
   "source": [
    "import numpy as np\n",
    "from keras.datasets import mnist\n",
    "from keras.utils import np_utils\n",
    "from keras.models import Sequential\n",
    "from keras.layers import Dense,Dropout\n",
    "from keras.optimizers import SGD\n",
    "\n",
    "#载入数据\n",
    "(x_train,y_train),(x_test,y_test) = mnist.load_data()#这里尚未转换为one hot\n",
    "\n",
    "x_train = x_train.reshape(x_train.shape[0],-1)/255.0 #-1表示任何值，会自动判断\n",
    "x_test = x_test.reshape(x_test.shape[0],-1)/255.0 #-1表示任何值，会自动判断\n",
    "\n",
    "#转换为one hot\n",
    "y_train = np_utils.to_categorical(y_train,num_classes=10)\n",
    "y_test = np_utils.to_categorical(y_test,num_classes=10)\n",
    "\n",
    "#创建模型 784-200-100-10\n",
    "model = Sequential([\n",
    "    Dense(units=200,input_dim=784,bias_initializer='one',activation='tanh'),\n",
    "    Dropout(0.4),#让40%不工作\n",
    "    Dense(units=100,bias_initializer='one',activation='tanh'),\n",
    "    Dropout(0.4),#让40%不工作\n",
    "    Dense(units=10,bias_initializer='one',activation='softmax')\n",
    "])\n",
    "#定义优化器\n",
    "sgd = SGD(lr=0.2)\n",
    "#loss_function 在计算过程中 计算准确率\n",
    "model.compile(\n",
    "    optimizer=sgd,\n",
    "#     loss='mse',\n",
    "    loss = 'categorical_crossentropy',\n",
    "    metrics=['accuracy']\n",
    ")\n",
    "\n",
    "model.fit(x_train,y_train,batch_size=32,epochs=10)#每一次用32张，60000张循环一遍为一个批次\n",
    "\n",
    "#评估模型\n",
    "loss,accuracy = model.evaluate(x_test,y_test)\n",
    "print('\\ntest loss',loss)\n",
    "print('test accuracy ',accuracy)\n",
    "\n",
    "loss,accuracy = model.evaluate(x_train,y_train)\n",
    "print('\\ntest loss',loss)\n",
    "print('train accuracy ',accuracy)\n"
   ]
  },
  {
   "cell_type": "code",
   "execution_count": 2,
   "metadata": {},
   "outputs": [],
   "source": [
    "\n",
    "model.save('model.h5')#HDF5文件"
   ]
  },
  {
   "cell_type": "code",
   "execution_count": 3,
   "metadata": {},
   "outputs": [],
   "source": [
    "from keras.models import load_model"
   ]
  },
  {
   "cell_type": "code",
   "execution_count": 4,
   "metadata": {},
   "outputs": [
    {
     "name": "stdout",
     "output_type": "stream",
     "text": [
      "313/313 [==============================] - 0s 1ms/step - loss: 0.1096 - accuracy: 0.9682\n",
      "loss 0.10960788279771805\n",
      "acc 0.9682000279426575\n"
     ]
    }
   ],
   "source": [
    "model1 = load_model('model.h5')\n",
    "loss,accuracy = model1.evaluate(x_test,y_test)\n",
    "print('loss',loss)\n",
    "print('acc',accuracy)"
   ]
  },
  {
   "cell_type": "markdown",
   "metadata": {},
   "source": [
    "loss 和 accuracy跟上面是一样的\n",
    "可以对model1.fit再进行训练"
   ]
  },
  {
   "cell_type": "code",
   "execution_count": null,
   "metadata": {},
   "outputs": [],
   "source": [
    "#第二种保存方式\n",
    "#保存参数，载入参数\n",
    "model.save_weights(\"my_model_weights.h5\")\n",
    "model.load_weights(\"my_model_weights.h5\")\n",
    "\n",
    "#保存网络结构，载入网络结构\n",
    "from keras.model import model_from_json\n",
    "json_string = model.to_json()\n",
    "model = model_from_json(json_string)\n",
    "print(json_string)"
   ]
  }
 ],
 "metadata": {
  "kernelspec": {
   "display_name": "Python 3",
   "language": "python",
   "name": "python3"
  },
  "language_info": {
   "codemirror_mode": {
    "name": "ipython",
    "version": 3
   },
   "file_extension": ".py",
   "mimetype": "text/x-python",
   "name": "python",
   "nbconvert_exporter": "python",
   "pygments_lexer": "ipython3",
   "version": "3.8.3"
  }
 },
 "nbformat": 4,
 "nbformat_minor": 4
}
