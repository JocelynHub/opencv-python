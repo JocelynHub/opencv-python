{
 "cells": [
  {
   "cell_type": "code",
   "execution_count": 1,
   "metadata": {},
   "outputs": [],
   "source": [
    "import numpy as np\n",
    "from keras.datasets import mnist\n",
    "from keras.utils import np_utils\n",
    "from keras.models import Sequential\n",
    "from keras.layers import Dense,Dropout\n",
    "from keras.optimizers import SGD"
   ]
  },
  {
   "cell_type": "code",
   "execution_count": 2,
   "metadata": {},
   "outputs": [],
   "source": [
    "#载入数据\n",
    "(x_train,y_train),(x_test,y_test) = mnist.load_data()#这里尚未转换为one hot\n",
    "\n",
    "x_train = x_train.reshape(x_train.shape[0],-1)/255.0 #-1表示任何值，会自动判断\n",
    "x_test = x_test.reshape(x_test.shape[0],-1)/255.0 #-1表示任何值，会自动判断\n",
    "\n",
    "#转换为one hot\n",
    "y_train = np_utils.to_categorical(y_train,num_classes=10)\n",
    "y_test = np_utils.to_categorical(y_test,num_classes=10)\n"
   ]
  },
  {
   "cell_type": "code",
   "execution_count": 5,
   "metadata": {},
   "outputs": [
    {
     "name": "stdout",
     "output_type": "stream",
     "text": [
      "Epoch 1/10\n",
      "1875/1875 [==============================] - 3s 2ms/step - loss: 0.4451 - accuracy: 0.8637\n",
      "Epoch 2/10\n",
      "1875/1875 [==============================] - 3s 2ms/step - loss: 0.2867 - accuracy: 0.9159\n",
      "Epoch 3/10\n",
      "1875/1875 [==============================] - 3s 2ms/step - loss: 0.2448 - accuracy: 0.9266\n",
      "Epoch 4/10\n",
      "1875/1875 [==============================] - 3s 2ms/step - loss: 0.2224 - accuracy: 0.9348\n",
      "Epoch 5/10\n",
      "1875/1875 [==============================] - 3s 2ms/step - loss: 0.2036 - accuracy: 0.9390\n",
      "Epoch 6/10\n",
      "1875/1875 [==============================] - 3s 2ms/step - loss: 0.1909 - accuracy: 0.9436\n",
      "Epoch 7/10\n",
      "1875/1875 [==============================] - 3s 2ms/step - loss: 0.1787 - accuracy: 0.9467\n",
      "Epoch 8/10\n",
      "1875/1875 [==============================] - 3s 2ms/step - loss: 0.1682 - accuracy: 0.9503\n",
      "Epoch 9/10\n",
      "1875/1875 [==============================] - 3s 2ms/step - loss: 0.1647 - accuracy: 0.9517: \n",
      "Epoch 10/10\n",
      "1875/1875 [==============================] - 3s 2ms/step - loss: 0.1563 - accuracy: 0.9530: 0s - loss: 0.1571 - accuracy\n",
      "313/313 [==============================] - 0s 1ms/step - loss: 0.1064 - accuracy: 0.9685\n",
      "\n",
      "test loss 0.10642578452825546\n",
      "test accuracy  0.968500018119812\n",
      "1875/1875 [==============================] - 3s 2ms/step - loss: 0.0790 - accuracy: 0.9766\n",
      "\n",
      "test loss 0.07903769612312317\n",
      "train accuracy  0.9766499996185303\n"
     ]
    }
   ],
   "source": [
    "#创建模型 784-200-100-10\n",
    "model = Sequential([\n",
    "    Dense(units=200,input_dim=784,bias_initializer='one',activation='tanh'),\n",
    "    Dropout(0.4),#让40%不工作\n",
    "    Dense(units=100,bias_initializer='one',activation='tanh'),\n",
    "    Dropout(0.4),#让40%不工作\n",
    "    Dense(units=10,bias_initializer='one',activation='softmax')\n",
    "])\n",
    "#定义优化器\n",
    "sgd = SGD(lr=0.2)\n",
    "#loss_function 在计算过程中 计算准确率\n",
    "model.compile(\n",
    "    optimizer=sgd,\n",
    "#     loss='mse',\n",
    "    loss = 'categorical_crossentropy',\n",
    "    metrics=['accuracy']\n",
    ")\n",
    "\n",
    "model.fit(x_train,y_train,batch_size=32,epochs=10)#每一次用32张，60000张循环一遍为一个批次\n",
    "\n",
    "#评估模型\n",
    "loss,accuracy = model.evaluate(x_test,y_test)\n",
    "print('\\ntest loss',loss)\n",
    "print('test accuracy ',accuracy)\n",
    "\n",
    "loss,accuracy = model.evaluate(x_train,y_train)\n",
    "print('\\ntest loss',loss)\n",
    "print('train accuracy ',accuracy)"
   ]
  },
  {
   "cell_type": "code",
   "execution_count": null,
   "metadata": {},
   "outputs": [],
   "source": [
    "训练集结果 好于 测试集 过拟合现象\n",
    "mnist 比较小\n",
    "如果是imagenet需要dropout,否则过拟合会 影响测试集的准确率"
   ]
  }
 ],
 "metadata": {
  "kernelspec": {
   "display_name": "Python 3",
   "language": "python",
   "name": "python3"
  },
  "language_info": {
   "codemirror_mode": {
    "name": "ipython",
    "version": 3
   },
   "file_extension": ".py",
   "mimetype": "text/x-python",
   "name": "python",
   "nbconvert_exporter": "python",
   "pygments_lexer": "ipython3",
   "version": "3.8.3"
  }
 },
 "nbformat": 4,
 "nbformat_minor": 4
}
