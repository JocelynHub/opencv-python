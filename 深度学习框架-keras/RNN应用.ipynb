{
 "cells": [
  {
   "cell_type": "code",
   "execution_count": 1,
   "metadata": {},
   "outputs": [],
   "source": [
    "import numpy as np\n",
    "from keras.datasets import mnist\n",
    "from keras.utils import np_utils\n",
    "from keras.models import Sequential\n",
    "from keras.layers import Dense\n",
    "from keras.layers.recurrent import SimpleRNN\n",
    "from keras.optimizers import SGD,Adam"
   ]
  },
  {
   "cell_type": "code",
   "execution_count": 2,
   "metadata": {},
   "outputs": [
    {
     "name": "stdout",
     "output_type": "stream",
     "text": [
      "Epoch 1/10\n",
      "938/938 [==============================] - 7s 8ms/step - loss: 1.5282 - accuracy: 0.5181\n",
      "Epoch 2/10\n",
      "938/938 [==============================] - 7s 8ms/step - loss: 0.9051 - accuracy: 0.7197\n",
      "Epoch 3/10\n",
      "938/938 [==============================] - 7s 8ms/step - loss: 0.6732 - accuracy: 0.8003\n",
      "Epoch 4/10\n",
      "938/938 [==============================] - 8s 8ms/step - loss: 0.5655 - accuracy: 0.8354\n",
      "Epoch 5/10\n",
      "938/938 [==============================] - 7s 8ms/step - loss: 0.4959 - accuracy: 0.8570\n",
      "Epoch 6/10\n",
      "938/938 [==============================] - 7s 8ms/step - loss: 0.4471 - accuracy: 0.8726\n",
      "Epoch 7/10\n",
      "938/938 [==============================] - 7s 8ms/step - loss: 0.4104 - accuracy: 0.8833\n",
      "Epoch 8/10\n",
      "938/938 [==============================] - 7s 8ms/step - loss: 0.3822 - accuracy: 0.8915\n",
      "Epoch 9/10\n",
      "938/938 [==============================] - 7s 8ms/step - loss: 0.3586 - accuracy: 0.8981\n",
      "Epoch 10/10\n",
      "938/938 [==============================] - 7s 7ms/step - loss: 0.3394 - accuracy: 0.9033\n",
      "313/313 [==============================] - 1s 3ms/step - loss: 0.3198 - accuracy: 0.9073\n",
      "\n",
      "loss 0.3197743892669678\n",
      "acc 0.9072999954223633\n"
     ]
    }
   ],
   "source": [
    "#将一张图片 进行拆分\n",
    "#数据长度--一行有28个像素\n",
    "input_size = 28\n",
    "#序列长度--一共有28行\n",
    "time_steps = 28\n",
    "#隐藏层cell个数\n",
    "cell_size = 50\n",
    "\n",
    "#载入数据\n",
    "(x_train,y_train),(x_test,y_test) = mnist.load_data()\n",
    "#(60000,28,28)\n",
    "x_train = x_train/255.0\n",
    "x_test=x_test/255.0\n",
    "\n",
    "#one hot\n",
    "y_train = np_utils.to_categorical(y_train,num_classes=10)\n",
    "y_test = np_utils.to_categorical(y_test,num_classes=10)\n",
    "\n",
    "#创建模型\n",
    "model = Sequential()\n",
    "#循环神经网络\n",
    "model.add(SimpleRNN(\n",
    "    units=cell_size,#输出，这里的输出，指的是隐藏层\n",
    "    input_shape = (time_steps,input_size)#输入\n",
    "))\n",
    "#输出层\n",
    "model.add(Dense(10,activation='softmax'))\n",
    "#定义优化器\n",
    "adam = Adam(lr=1e-4)\n",
    "\n",
    "model.compile(optimizer=adam,loss='categorical_crossentropy',metrics=['accuracy'])\n",
    "#训练模型\n",
    "model.fit(x_train,y_train,batch_size=64,epochs=10)\n",
    "loss,accuracy=model.evaluate(x_test,y_test)\n",
    "print('\\nloss',loss)\n",
    "print('acc',accuracy)"
   ]
  },
  {
   "cell_type": "code",
   "execution_count": null,
   "metadata": {},
   "outputs": [],
   "source": [
    "RNN 用于图像识别效果不如CNN"
   ]
  }
 ],
 "metadata": {
  "kernelspec": {
   "display_name": "Python 3",
   "language": "python",
   "name": "python3"
  },
  "language_info": {
   "codemirror_mode": {
    "name": "ipython",
    "version": 3
   },
   "file_extension": ".py",
   "mimetype": "text/x-python",
   "name": "python",
   "nbconvert_exporter": "python",
   "pygments_lexer": "ipython3",
   "version": "3.8.3"
  }
 },
 "nbformat": 4,
 "nbformat_minor": 4
}
