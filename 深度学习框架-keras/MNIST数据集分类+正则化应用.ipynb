{
 "cells": [
  {
   "cell_type": "code",
   "execution_count": 3,
   "metadata": {},
   "outputs": [],
   "source": [
    "import numpy as np\n",
    "from keras.datasets import mnist\n",
    "from keras.utils import np_utils\n",
    "from keras.models import Sequential\n",
    "from keras.layers import Dense\n",
    "from keras.optimizers import SGD\n",
    "from keras.regularizers import l2#负责正则化"
   ]
  },
  {
   "cell_type": "code",
   "execution_count": 2,
   "metadata": {},
   "outputs": [],
   "source": [
    "#载入数据\n",
    "(x_train,y_train),(x_test,y_test) = mnist.load_data()#这里尚未转换为one hot\n",
    "\n",
    "x_train = x_train.reshape(x_train.shape[0],-1)/255.0 #-1表示任何值，会自动判断\n",
    "x_test = x_test.reshape(x_test.shape[0],-1)/255.0 #-1表示任何值，会自动判断\n",
    "\n",
    "#转换为one hot\n",
    "y_train = np_utils.to_categorical(y_train,num_classes=10)\n",
    "y_test = np_utils.to_categorical(y_test,num_classes=10)"
   ]
  },
  {
   "cell_type": "code",
   "execution_count": 4,
   "metadata": {},
   "outputs": [
    {
     "name": "stdout",
     "output_type": "stream",
     "text": [
      "Epoch 1/10\n",
      "1875/1875 [==============================] - 4s 2ms/step - loss: 0.4408 - accuracy: 0.9111\n",
      "Epoch 2/10\n",
      "1875/1875 [==============================] - 4s 2ms/step - loss: 0.2638 - accuracy: 0.9592\n",
      "Epoch 3/10\n",
      "1875/1875 [==============================] - 4s 2ms/step - loss: 0.2218 - accuracy: 0.9681\n",
      "Epoch 4/10\n",
      "1875/1875 [==============================] - 4s 2ms/step - loss: 0.1962 - accuracy: 0.9721\n",
      "Epoch 5/10\n",
      "1875/1875 [==============================] - 4s 2ms/step - loss: 0.1794 - accuracy: 0.9759\n",
      "Epoch 6/10\n",
      "1875/1875 [==============================] - 4s 2ms/step - loss: 0.1696 - accuracy: 0.9775\n",
      "Epoch 7/10\n",
      "1875/1875 [==============================] - 4s 2ms/step - loss: 0.1622 - accuracy: 0.9797\n",
      "Epoch 8/10\n",
      "1875/1875 [==============================] - 4s 2ms/step - loss: 0.1586 - accuracy: 0.9793\n",
      "Epoch 9/10\n",
      "1875/1875 [==============================] - 4s 2ms/step - loss: 0.1550 - accuracy: 0.9804\n",
      "Epoch 10/10\n",
      "1875/1875 [==============================] - 4s 2ms/step - loss: 0.1532 - accuracy: 0.9801\n",
      "313/313 [==============================] - 0s 1ms/step - loss: 0.1656 - accuracy: 0.9757\n",
      "\n",
      "test loss 0.1656186580657959\n",
      "test accuracy  0.9757000207901001\n",
      "1875/1875 [==============================] - 3s 2ms/step - loss: 0.1371 - accuracy: 0.9865\n",
      "\n",
      "test loss 0.13710995018482208\n",
      "train accuracy  0.9865166544914246\n"
     ]
    }
   ],
   "source": [
    "#创建模型 784-200-100-10\n",
    "model = Sequential([\n",
    "    Dense(units=200,input_dim=784,bias_initializer='one',activation='tanh',kernel_regularizer=l2(0.0003)),\n",
    "    Dense(units=100,bias_initializer='one',activation='tanh',kernel_regularizer=l2(0.0003)),\n",
    "    Dense(units=10,bias_initializer='one',activation='softmax',kernel_regularizer=l2(0.0003))\n",
    "])\n",
    "#定义优化器\n",
    "sgd = SGD(lr=0.2)\n",
    "#loss_function 在计算过程中 计算准确率\n",
    "model.compile(\n",
    "    optimizer=sgd,\n",
    "#     loss='mse',\n",
    "    loss = 'categorical_crossentropy',\n",
    "    metrics=['accuracy']\n",
    ")\n",
    "\n",
    "model.fit(x_train,y_train,batch_size=32,epochs=10)#每一次用32张，60000张循环一遍为一个批次\n",
    "\n",
    "#评估模型\n",
    "loss,accuracy = model.evaluate(x_test,y_test)\n",
    "print('\\ntest loss',loss)\n",
    "print('test accuracy ',accuracy)\n",
    "\n",
    "loss,accuracy = model.evaluate(x_train,y_train)\n",
    "print('\\ntest loss',loss)\n",
    "print('train accuracy ',accuracy)"
   ]
  },
  {
   "cell_type": "code",
   "execution_count": null,
   "metadata": {},
   "outputs": [],
   "source": []
  }
 ],
 "metadata": {
  "kernelspec": {
   "display_name": "Python 3",
   "language": "python",
   "name": "python3"
  },
  "language_info": {
   "codemirror_mode": {
    "name": "ipython",
    "version": 3
   },
   "file_extension": ".py",
   "mimetype": "text/x-python",
   "name": "python",
   "nbconvert_exporter": "python",
   "pygments_lexer": "ipython3",
   "version": "3.8.3"
  }
 },
 "nbformat": 4,
 "nbformat_minor": 4
}
