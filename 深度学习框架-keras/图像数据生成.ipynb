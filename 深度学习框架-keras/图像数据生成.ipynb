{
 "cells": [
  {
   "cell_type": "code",
   "execution_count": 1,
   "metadata": {},
   "outputs": [],
   "source": [
    "from keras.preprocessing.image import ImageDataGenerator,array_to_img,img_to_array,load_img\n",
    "import numpy as np"
   ]
  },
  {
   "cell_type": "code",
   "execution_count": 7,
   "metadata": {},
   "outputs": [
    {
     "name": "stdout",
     "output_type": "stream",
     "text": [
      "(4608, 3456, 3)\n",
      "(1, 4608, 3456, 3)\n"
     ]
    }
   ],
   "source": [
    "datagen = ImageDataGenerator(\n",
    "    rotation_range = 40,#随机旋转度数，0-180\n",
    "    width_shift_range=0.2,#随机水平平移\n",
    "    height_shift_range=0.2,#随机竖直平移\n",
    "    rescale=1/255,#数据归一化\n",
    "    shear_range=0.2,#随机错切变换\n",
    "    zoom_range = 0.2,\n",
    "    horizontal_flip=True,\n",
    "    fill_mode='nearest'\n",
    ")\n",
    "\n",
    "img = load_img('test.jpeg')\n",
    "x = img_to_array(img)\n",
    "print(x.shape)\n",
    "\n",
    "x = np.expand_dims(x,0)\n",
    "print(x.shape)"
   ]
  },
  {
   "cell_type": "code",
   "execution_count": 9,
   "metadata": {},
   "outputs": [
    {
     "name": "stdout",
     "output_type": "stream",
     "text": [
      "finish\n"
     ]
    }
   ],
   "source": [
    "#生成20张图片\n",
    "i = 0\n",
    "for batch in datagen.flow(x,batch_size=1,save_to_dir='temp',save_prefix='change',save_format='jpeg'):\n",
    "    i += 1\n",
    "    if i==20:\n",
    "        break\n",
    "print(\"finish\")"
   ]
  },
  {
   "cell_type": "code",
   "execution_count": null,
   "metadata": {},
   "outputs": [],
   "source": []
  },
  {
   "cell_type": "code",
   "execution_count": null,
   "metadata": {},
   "outputs": [],
   "source": []
  }
 ],
 "metadata": {
  "kernelspec": {
   "display_name": "Python 3",
   "language": "python",
   "name": "python3"
  },
  "language_info": {
   "codemirror_mode": {
    "name": "ipython",
    "version": 3
   },
   "file_extension": ".py",
   "mimetype": "text/x-python",
   "name": "python",
   "nbconvert_exporter": "python",
   "pygments_lexer": "ipython3",
   "version": "3.8.3"
  }
 },
 "nbformat": 4,
 "nbformat_minor": 4
}
