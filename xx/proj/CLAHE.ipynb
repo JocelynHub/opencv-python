{
 "cells": [
  {
   "cell_type": "code",
   "execution_count": 1,
   "metadata": {},
   "outputs": [
    {
     "name": "stdout",
     "output_type": "stream",
     "text": [
      "Using matplotlib backend: MacOSX\n"
     ]
    }
   ],
   "source": [
    "import cv2 as cv\n",
    "import matplotlib.pyplot as plt\n",
    "%matplotlib auto\n",
    "\n",
    "img = cv.imread('../img/youngLady.jpeg',0)\n",
    "res = cv.equalizeHist(img)\n",
    "\n",
    "clahe = cv.createCLAHE(clipLimit = 2,tileGridSize = (10,10))#最后给的如果是0，10会挂掉\n",
    "cl1 = clahe.apply(img)\n",
    "\n",
    "plt.figure(figsize = (14,7))\n",
    "plt.subplot(131),plt.imshow(img,'gray')\n",
    "plt.subplot(132),plt.imshow(res,'gray')\n",
    "plt.subplot(133),plt.imshow(cl1,'gray')\n",
    "plt.show()"
   ]
  },
  {
   "cell_type": "code",
   "execution_count": null,
   "metadata": {},
   "outputs": [],
   "source": []
  }
 ],
 "metadata": {
  "kernelspec": {
   "display_name": "Python 3",
   "language": "python",
   "name": "python3"
  },
  "language_info": {
   "codemirror_mode": {
    "name": "ipython",
    "version": 3
   },
   "file_extension": ".py",
   "mimetype": "text/x-python",
   "name": "python",
   "nbconvert_exporter": "python",
   "pygments_lexer": "ipython3",
   "version": "3.8.3"
  }
 },
 "nbformat": 4,
 "nbformat_minor": 4
}
