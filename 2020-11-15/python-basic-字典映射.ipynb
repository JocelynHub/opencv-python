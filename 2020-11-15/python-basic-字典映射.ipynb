{
 "cells": [
  {
   "cell_type": "code",
   "execution_count": 1,
   "metadata": {},
   "outputs": [
    {
     "name": "stdout",
     "output_type": "stream",
     "text": [
      "{'m': 10, 'n': 'aa', 'h': [1, 2, 3]}\n"
     ]
    }
   ],
   "source": [
    "dic = dict(m=10,n='aa',h=[1,2,3])#元素已经是键值对\n",
    "print(dic)"
   ]
  },
  {
   "cell_type": "code",
   "execution_count": 5,
   "metadata": {},
   "outputs": [
    {
     "name": "stdout",
     "output_type": "stream",
     "text": [
      "{'a': 'fff', 'b': 'ggg'}\n",
      "{'c': 1, 'd': 2}\n",
      "{'e': [1, 2], 'f': [3, 4]}\n"
     ]
    }
   ],
   "source": [
    "lst1 = [(\"a\",\"fff\"),(\"b\",\"ggg\")]\n",
    "lst2 = [[\"c\",1],[\"d\",2]]\n",
    "lst3 = ((\"e\",[1,2]),(\"f\",[3,4]))\n",
    "dic1 = dict(lst1)\n",
    "print(dic1)\n",
    "dic2 = dict(lst2)\n",
    "print(dic2)\n",
    "dic3 = dict(lst3)\n",
    "print(dic3)\n",
    "#由序列生成字典，序列可以是list也可以是tuple"
   ]
  },
  {
   "cell_type": "code",
   "execution_count": 6,
   "metadata": {},
   "outputs": [],
   "source": [
    "#break会停止当前最深的循环\n",
    "#pass为空语句，为了保持程序结构的完整性\n",
    "#continue理解同C++"
   ]
  },
  {
   "cell_type": "code",
   "execution_count": 7,
   "metadata": {},
   "outputs": [
    {
     "name": "stdout",
     "output_type": "stream",
     "text": [
      "6\n"
     ]
    }
   ],
   "source": [
    "#匿名函数lambda\n",
    "f = lambda a,b,c:a+b+c\n",
    "print(f(1,2,3))\n",
    "#匿名函数，不需要函数名；主体就是一个表达式，只有一行"
   ]
  },
  {
   "cell_type": "code",
   "execution_count": null,
   "metadata": {},
   "outputs": [],
   "source": []
  }
 ],
 "metadata": {
  "kernelspec": {
   "display_name": "Python 3",
   "language": "python",
   "name": "python3"
  },
  "language_info": {
   "codemirror_mode": {
    "name": "ipython",
    "version": 3
   },
   "file_extension": ".py",
   "mimetype": "text/x-python",
   "name": "python",
   "nbconvert_exporter": "python",
   "pygments_lexer": "ipython3",
   "version": "3.8.3"
  }
 },
 "nbformat": 4,
 "nbformat_minor": 4
}
