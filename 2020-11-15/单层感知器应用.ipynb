{
 "cells": [
  {
   "cell_type": "code",
   "execution_count": 1,
   "metadata": {},
   "outputs": [],
   "source": [
    "#深度学习1.mp4 1:05:51"
   ]
  },
  {
   "cell_type": "code",
   "execution_count": 2,
   "metadata": {},
   "outputs": [],
   "source": [
    "import numpy as np\n",
    "import matplotlib.pyplot as plt"
   ]
  },
  {
   "cell_type": "code",
   "execution_count": 3,
   "metadata": {},
   "outputs": [],
   "source": [
    "#定义输入数据,4x1\n",
    "X = np.array([[1,3,3],\n",
    "              [1,4,3],\n",
    "              [1,1,1],\n",
    "              [1,2,1]])\n",
    "#定义标签\n",
    "T = np.array([[1],\n",
    "              [1],\n",
    "              [-1],\n",
    "              [-1]])\n",
    "#权值初始化\n",
    "W = np.random.random([3,1])#三行一列\n",
    "#学习率\n",
    "lr = 0.1\n",
    "#神经网络输出\n",
    "Y = 0"
   ]
  },
  {
   "cell_type": "code",
   "execution_count": 4,
   "metadata": {},
   "outputs": [],
   "source": [
    "#更新权值的函数\n",
    "def train():\n",
    "    global X,Y,W,lr,T\n",
    "    #同时计算4个数据的预测值\n",
    "    Y = np.sign(np.dot(X,W))#得到4行1列\n",
    "    E = T - Y#T-Y得到4个标签值与预测值的误差4x1\n",
    "    delta_w = lr * (X.T.dot(E)) / X.shape[0]#因为现在进行的是矩阵操作，所以最后的delta_w最后除以X的行数，求得平均\n",
    "    #因为公式中的delta_w = lr * (T - Y) * Xi\n",
    "    W = W + delta_w"
   ]
  },
  {
   "cell_type": "code",
   "execution_count": 5,
   "metadata": {},
   "outputs": [
    {
     "name": "stdout",
     "output_type": "stream",
     "text": [
      "epoch: 1\n",
      "weights [[0.78967965]\n",
      " [0.51596368]\n",
      " [0.18455951]]\n",
      "epoch: 2\n",
      "weights [[0.68967965]\n",
      " [0.36596368]\n",
      " [0.08455951]]\n",
      "epoch: 3\n",
      "weights [[ 0.58967965]\n",
      " [ 0.21596368]\n",
      " [-0.01544049]]\n",
      "epoch: 4\n",
      "weights [[ 0.48967965]\n",
      " [ 0.06596368]\n",
      " [-0.11544049]]\n",
      "epoch: 5\n",
      "weights [[ 0.38967965]\n",
      " [-0.08403632]\n",
      " [-0.21544049]]\n",
      "epoch: 6\n",
      "weights [[ 0.38967965]\n",
      " [ 0.11596368]\n",
      " [-0.01544049]]\n",
      "epoch: 7\n",
      "weights [[ 0.28967965]\n",
      " [-0.03403632]\n",
      " [-0.11544049]]\n",
      "epoch: 8\n",
      "weights [[0.28967965]\n",
      " [0.16596368]\n",
      " [0.08455951]]\n",
      "epoch: 9\n",
      "weights [[ 0.18967965]\n",
      " [ 0.01596368]\n",
      " [-0.01544049]]\n",
      "epoch: 10\n",
      "weights [[ 0.08967965]\n",
      " [-0.13403632]\n",
      " [-0.11544049]]\n",
      "epoch: 11\n",
      "weights [[0.18967965]\n",
      " [0.21596368]\n",
      " [0.18455951]]\n",
      "epoch: 12\n",
      "weights [[0.08967965]\n",
      " [0.06596368]\n",
      " [0.08455951]]\n",
      "epoch: 13\n",
      "weights [[-0.01032035]\n",
      " [-0.08403632]\n",
      " [-0.01544049]]\n",
      "epoch: 14\n",
      "weights [[0.08967965]\n",
      " [0.26596368]\n",
      " [0.28455951]]\n",
      "epoch: 15\n",
      "weights [[-0.01032035]\n",
      " [ 0.11596368]\n",
      " [ 0.18455951]]\n",
      "epoch: 16\n",
      "weights [[-0.11032035]\n",
      " [-0.03403632]\n",
      " [ 0.08455951]]\n",
      "finished\n"
     ]
    }
   ],
   "source": [
    "#训练\n",
    "for i in range(100):\n",
    "    train()\n",
    "    print('epoch:',i+1)\n",
    "    print('weights',W)\n",
    "    Y = np.sign(np.dot(X,W))\n",
    "    if((Y == T).all()):\n",
    "        print('finished')\n",
    "        break"
   ]
  },
  {
   "cell_type": "code",
   "execution_count": 19,
   "metadata": {
    "scrolled": true
   },
   "outputs": [
    {
     "data": {
      "image/png": "[encoded data removed]",
      "text/plain": [
       "<Figure size 432x288 with 1 Axes>"
      ]
     },
     "metadata": {
      "needs_background": "light"
     },
     "output_type": "display_data"
    }
   ],
   "source": [
    "#画图\n",
    "#正样本\n",
    "x1 = [3,4]\n",
    "y1 = [3,3]\n",
    "#负样本\n",
    "x2 = [1,2]\n",
    "y2 = [1,1]\n",
    "\n",
    "#W0 + W1*X + W2*y = 0是结果>0 或者 <0的分界线\n",
    "k = -W[1]/W[2]\n",
    "d = -W[0]/W[2]\n",
    "#得到了边界线的斜率和截距\n",
    "#设定两个点\n",
    "xdata = (0,5)\n",
    "plt.plot(xdata,xdata*k+d,'r')\n",
    "plt.scatter(x1,y1,c='b')\n",
    "plt.scatter(x2,y2,c='y')\n",
    "plt.show()"
   ]
  }
 ],
 "metadata": {
  "kernelspec": {
   "display_name": "Python 3",
   "language": "python",
   "name": "python3"
  },
  "language_info": {
   "codemirror_mode": {
    "name": "ipython",
    "version": 3
   },
   "file_extension": ".py",
   "mimetype": "text/x-python",
   "name": "python",
   "nbconvert_exporter": "python",
   "pygments_lexer": "ipython3",
   "version": "3.8.3"
  }
 },
 "nbformat": 4,
 "nbformat_minor": 4
}
