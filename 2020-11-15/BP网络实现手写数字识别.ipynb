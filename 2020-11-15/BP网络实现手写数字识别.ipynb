{
 "cells": [
  {
   "cell_type": "code",
   "execution_count": 14,
   "metadata": {},
   "outputs": [],
   "source": [
    "import numpy as np\n",
    "from sklearn.datasets import load_digits#手写数字在这里\n",
    "from sklearn.preprocessing import LabelBinarizer#标签化\n",
    "from sklearn.model_selection import train_test_split#对训练集 测试集进行区分\n",
    "from sklearn.metrics import classification_report,confusion_matrix#对准确率 召回率 混淆矩阵\n",
    "import matplotlib.pyplot as plt"
   ]
  },
  {
   "cell_type": "code",
   "execution_count": 3,
   "metadata": {},
   "outputs": [
    {
     "name": "stdout",
     "output_type": "stream",
     "text": [
      "(1797, 8, 8)\n"
     ]
    },
    {
     "data": {
      "image/png": "[encoded data removed]",
      "text/plain": [
       "<Figure size 432x288 with 1 Axes>"
      ]
     },
     "metadata": {
      "needs_background": "light"
     },
     "output_type": "display_data"
    }
   ],
   "source": [
    "#载入数据\n",
    "digits = load_digits()\n",
    "print(digits.images.shape)\n",
    "#显示图片\n",
    "plt.imshow(digits.images[0],cmap='gray')\n",
    "plt.show()"
   ]
  },
  {
   "cell_type": "code",
   "execution_count": 4,
   "metadata": {},
   "outputs": [
    {
     "name": "stdout",
     "output_type": "stream",
     "text": [
      "(1797, 64)\n",
      "(1797,)\n"
     ]
    }
   ],
   "source": [
    "#读入数据\n",
    "X = digits.data\n",
    "#标签\n",
    "y = digits.target\n",
    "print(X.shape)\n",
    "print(y.shape)"
   ]
  },
  {
   "cell_type": "code",
   "execution_count": 5,
   "metadata": {},
   "outputs": [
    {
     "name": "stdout",
     "output_type": "stream",
     "text": [
      "[7 6 6 0 9]\n",
      "[[0 0 0 0 0 0 0 1 0 0]\n",
      " [0 0 0 0 0 0 1 0 0 0]\n",
      " [0 0 0 0 0 0 1 0 0 0]\n",
      " [1 0 0 0 0 0 0 0 0 0]\n",
      " [0 0 0 0 0 0 0 0 0 1]]\n"
     ]
    }
   ],
   "source": [
    "#神经网络的定义\n",
    "#64-100-10 因为每个样本有64个元素，隐藏层一般比输入层大些 \n",
    "#输入到隐藏层\n",
    "V = np.random.random([64,100])*2-1\n",
    "#隐藏层到输出层\n",
    "W = np.random.random([100,10])*2-1\n",
    "\n",
    "#数据切分\n",
    "X_train,X_test,y_train,y_test = train_test_split(X,y)#训练集 3/4 测试集 1/4\n",
    "\n",
    "#标签二值化\n",
    "#0---1000000000\n",
    "#3---0001000000#第几个位置\n",
    "\n",
    "labels_train = LabelBinarizer().fit_transform(y_train)\n",
    "print(y_train[:5])\n",
    "print(labels_train[:5])"
   ]
  },
  {
   "cell_type": "code",
   "execution_count": 10,
   "metadata": {},
   "outputs": [],
   "source": [
    "#定义激活函数\n",
    "def sigmoid(x):\n",
    "    return 1/(1+np.exp(-x))\n",
    "\n",
    "def dsigmoid(x):\n",
    "    return x*(1-x)\n",
    "\n",
    "\n",
    "def train(X,y,steps=10000,lr=0.11):#steps训练次数\n",
    "    global V,W\n",
    "    for n in range(steps+1):\n",
    "        #随机选取数据\n",
    "        i = np.random.randint(X.shape[0])\n",
    "        #根据随机数 获取一个数据\n",
    "        x = X[i]#X[i]代表了一张图，所以x会有64个数值\n",
    "        x = np.atleast_2d(x)#将数据转换为二维，有两个括号，方便做矩阵乘法\n",
    "        #BP算法公式：\n",
    "        #计算隐藏层输出\n",
    "        #L1 = sigmoid(np.dot(X,V))#这个就是转换为二维的原因\n",
    "        L1 = sigmoid(np.dot(x,V))\n",
    "        #输出层的输出\n",
    "        L2 = sigmoid(np.dot(L1,W))\n",
    "        \n",
    "        #输出层学习信号\n",
    "        L2_delta = (y[i]-L2)*dsigmoid(L2)\n",
    "        L1_delta = L2_delta.dot(W.T)*dsigmoid(L1)\n",
    "        \n",
    "        #更新权值\n",
    "        W += lr * L1.T.dot(L2_delta)\n",
    "        V += lr * x.T.dot(L1_delta)\n",
    "        \n",
    "        if n%1000 == 0:#预测准确率\n",
    "            output = predict(X_test)\n",
    "            predictions = np.argmax(output,axis=1)#获取output最大值的位置，因为标签数字化了\n",
    "            acc = np.mean(np.equal(predictions,y_test))\n",
    "            print('steps:',n,'acc:',acc)\n",
    "            \n",
    "def predict(x):\n",
    "    #计算隐藏层输出\n",
    "    L1 = sigmoid(np.dot(x,V))\n",
    "    #输出层的输出\n",
    "    L2 = sigmoid(np.dot(L1,W))\n",
    "    return L2"
   ]
  },
  {
   "cell_type": "code",
   "execution_count": 11,
   "metadata": {},
   "outputs": [
    {
     "name": "stdout",
     "output_type": "stream",
     "text": [
      "steps: 0 acc: 0.05333333333333334\n",
      "steps: 1000 acc: 0.5955555555555555\n",
      "steps: 2000 acc: 0.7266666666666667\n",
      "steps: 3000 acc: 0.8777777777777778\n",
      "steps: 4000 acc: 0.9022222222222223\n",
      "steps: 5000 acc: 0.9355555555555556\n",
      "steps: 6000 acc: 0.9088888888888889\n",
      "steps: 7000 acc: 0.9333333333333333\n",
      "steps: 8000 acc: 0.94\n",
      "steps: 9000 acc: 0.9244444444444444\n",
      "steps: 10000 acc: 0.9355555555555556\n",
      "steps: 11000 acc: 0.9444444444444444\n",
      "steps: 12000 acc: 0.9511111111111111\n",
      "steps: 13000 acc: 0.9555555555555556\n",
      "steps: 14000 acc: 0.9466666666666667\n",
      "steps: 15000 acc: 0.9511111111111111\n",
      "steps: 16000 acc: 0.9711111111111111\n",
      "steps: 17000 acc: 0.9466666666666667\n",
      "steps: 18000 acc: 0.9555555555555556\n",
      "steps: 19000 acc: 0.9644444444444444\n",
      "steps: 20000 acc: 0.9711111111111111\n"
     ]
    }
   ],
   "source": [
    "train(X_train,labels_train,20000)"
   ]
  },
  {
   "cell_type": "code",
   "execution_count": 12,
   "metadata": {},
   "outputs": [
    {
     "name": "stdout",
     "output_type": "stream",
     "text": [
      "(64,)\n"
     ]
    }
   ],
   "source": [
    "ss = digits.data\n",
    "sss = ss[0]\n",
    "print(sss.shape)"
   ]
  },
  {
   "cell_type": "code",
   "execution_count": 15,
   "metadata": {},
   "outputs": [
    {
     "name": "stdout",
     "output_type": "stream",
     "text": [
      "              precision    recall  f1-score   support\n",
      "\n",
      "           0       1.00      1.00      1.00        52\n",
      "           1       1.00      0.98      0.99        49\n",
      "           2       0.98      0.95      0.97        44\n",
      "           3       0.92      0.96      0.94        46\n",
      "           4       1.00      0.98      0.99        43\n",
      "           5       0.98      0.96      0.97        50\n",
      "           6       1.00      1.00      1.00        42\n",
      "           7       1.00      1.00      1.00        39\n",
      "           8       0.85      0.92      0.89        38\n",
      "           9       0.98      0.96      0.97        47\n",
      "\n",
      "    accuracy                           0.97       450\n",
      "   macro avg       0.97      0.97      0.97       450\n",
      "weighted avg       0.97      0.97      0.97       450\n",
      "\n"
     ]
    }
   ],
   "source": [
    "output = predict(X_test)\n",
    "predictions = np.argmax(output,axis = 1)\n",
    "\n",
    "print(classification_report(predictions,y_test))#查看准确率和召回率"
   ]
  },
  {
   "cell_type": "code",
   "execution_count": 16,
   "metadata": {},
   "outputs": [
    {
     "name": "stdout",
     "output_type": "stream",
     "text": [
      "[[52  0  0  0  0  0  0  0  0  0]\n",
      " [ 0 48  0  0  0  0  0  0  1  0]\n",
      " [ 0  0 42  0  0  0  0  0  2  0]\n",
      " [ 0  0  0 44  0  1  0  0  0  1]\n",
      " [ 0  0  1  0 42  0  0  0  0  0]\n",
      " [ 0  0  0  1  0 48  0  0  1  0]\n",
      " [ 0  0  0  0  0  0 42  0  0  0]\n",
      " [ 0  0  0  0  0  0  0 39  0  0]\n",
      " [ 0  0  0  3  0  0  0  0 35  0]\n",
      " [ 0  0  0  0  0  0  0  0  2 45]]\n"
     ]
    }
   ],
   "source": [
    "print(confusion_matrix(predictions,y_test))#混淆矩阵，对角线上为预测准确的"
   ]
  },
  {
   "cell_type": "code",
   "execution_count": null,
   "metadata": {},
   "outputs": [],
   "source": []
  }
 ],
 "metadata": {
  "kernelspec": {
   "display_name": "Python 3",
   "language": "python",
   "name": "python3"
  },
  "language_info": {
   "codemirror_mode": {
    "name": "ipython",
    "version": 3
   },
   "file_extension": ".py",
   "mimetype": "text/x-python",
   "name": "python",
   "nbconvert_exporter": "python",
   "pygments_lexer": "ipython3",
   "version": "3.8.3"
  }
 },
 "nbformat": 4,
 "nbformat_minor": 4
}
