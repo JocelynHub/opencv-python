{
 "cells": [
  {
   "cell_type": "code",
   "execution_count": 2,
   "metadata": {},
   "outputs": [],
   "source": [
    "import tensorflow as tf\n",
    "tf.compat.v1.disable_eager_execution()#确保sess.run()能够正常运行，后面有个括号"
   ]
  },
  {
   "cell_type": "code",
   "execution_count": 3,
   "metadata": {},
   "outputs": [
    {
     "name": "stdout",
     "output_type": "stream",
     "text": [
      "(1, 2)\n",
      "(2,)\n",
      "<class 'tensorflow.python.framework.ops.Tensor'> <class 'tensorflow.python.framework.ops.Tensor'>\n",
      "Tensor(\"MatMul:0\", shape=(1, 1), dtype=int32)\n"
     ]
    }
   ],
   "source": [
    "#创建一个常量\n",
    "m1 = tf.constant([[3,3]])#注意外层的大括号\n",
    "#创建一个常量\n",
    "m2 = tf.constant([[2],[3]])\n",
    "#矩阵乘法op\n",
    "product = tf.matmul(m1,m2)\n",
    "print(m1.shape)\n",
    "test = tf.constant([3,3])#注意shape\n",
    "print(test.shape)\n",
    "print(type(test),type(m1))\n",
    "print(product)"
   ]
  },
  {
   "cell_type": "code",
   "execution_count": 4,
   "metadata": {},
   "outputs": [
    {
     "name": "stdout",
     "output_type": "stream",
     "text": [
      "[[15]]\n",
      "(1, 1)\n"
     ]
    }
   ],
   "source": [
    "#定义会话\n",
    "sess = tf.compat.v1.Session()\n",
    "#调用会话中的run方法来执行矩阵乘法op\n",
    "result = sess.run(product)\n",
    "print(result)\n",
    "print(result.shape)\n",
    "sess.close()#这种定义会话方式 需要close"
   ]
  },
  {
   "cell_type": "code",
   "execution_count": 5,
   "metadata": {},
   "outputs": [
    {
     "name": "stdout",
     "output_type": "stream",
     "text": [
      "[[15]]\n"
     ]
    }
   ],
   "source": [
    "#另一种定义会话方式，这种不需要close\n",
    "with tf.compat.v1.Session() as sess:\n",
    "    result = sess.run(product)\n",
    "    print(result)"
   ]
  },
  {
   "cell_type": "code",
   "execution_count": 6,
   "metadata": {},
   "outputs": [
    {
     "name": "stdout",
     "output_type": "stream",
     "text": [
      "[-2 -1]\n",
      "[-1  1]\n"
     ]
    }
   ],
   "source": [
    "#变量的定义和使用\n",
    "#定义一个变量\n",
    "x = tf.Variable([1,2])\n",
    "#定义一个常量\n",
    "a = tf.constant([3,3])\n",
    "#定义减法op\n",
    "sub = tf.subtract(x,a)\n",
    "#定义加法op\n",
    "add = tf.add(x,sub)\n",
    "\n",
    "#定义了变量，是需要对其进行初始化的，常量不需要\n",
    "\n",
    "#所有变量初始化\n",
    "init = tf.compat.v1.global_variables_initializer()\n",
    "# 但这里并不会进行真正的初始化\n",
    "\n",
    "with tf.compat.v1.Session() as sess:\n",
    "    sess.run(init)#执行变量初始化\n",
    "    print(sess.run(sub))\n",
    "    print(sess.run(add))"
   ]
  },
  {
   "cell_type": "code",
   "execution_count": 7,
   "metadata": {},
   "outputs": [
    {
     "name": "stdout",
     "output_type": "stream",
     "text": [
      "[21.0, 7.0]\n"
     ]
    }
   ],
   "source": [
    "#fetch 和 feed的用法\n",
    "#fetch 可以在session中 同时 计算多个tensor 或执行多个操作\n",
    "#定义三个常量\n",
    "input1 = tf.constant(3.0)\n",
    "input2 = tf.constant(2.0)\n",
    "input3 = tf.constant(5.0)\n",
    "#加法op\n",
    "add = tf.add(input2,input3)\n",
    "#乘法op\n",
    "mul = tf.multiply(input1,add)\n",
    "\n",
    "#定义会话\n",
    "with tf.compat.v1.Session() as sess:\n",
    "    result = sess.run([mul,add])\n",
    "    print(result)"
   ]
  },
  {
   "cell_type": "code",
   "execution_count": 12,
   "metadata": {},
   "outputs": [
    {
     "name": "stdout",
     "output_type": "stream",
     "text": [
      "16.0\n"
     ]
    }
   ],
   "source": [
    "#feed 先定义占位符，等需要的时候再存入数据\n",
    "input1 = tf.compat.v1.placeholder(tf.float32)\n",
    "input2 = tf.compat.v1.placeholder(tf.float32)#占位符格式\n",
    "\n",
    "#两个数据具体是什么还不知道\n",
    "\n",
    "#乘法op\n",
    "output = tf.multiply(input1,input2)\n",
    "\n",
    "#定义会话\n",
    "with tf.compat.v1.Session() as sess:\n",
    "    #print(sess.run(output))#但这个时候 还不知道两个输入是什么\n",
    "    print(sess.run(output,feed_dict = {input1:8.0,input2:2.0}))#feed的用处\n"
   ]
  },
  {
   "cell_type": "code",
   "execution_count": null,
   "metadata": {},
   "outputs": [],
   "source": []
  }
 ],
 "metadata": {
  "kernelspec": {
   "display_name": "Python 3",
   "language": "python",
   "name": "python3"
  },
  "language_info": {
   "codemirror_mode": {
    "name": "ipython",
    "version": 3
   },
   "file_extension": ".py",
   "mimetype": "text/x-python",
   "name": "python",
   "nbconvert_exporter": "python",
   "pygments_lexer": "ipython3",
   "version": "3.8.3"
  }
 },
 "nbformat": 4,
 "nbformat_minor": 4
}
